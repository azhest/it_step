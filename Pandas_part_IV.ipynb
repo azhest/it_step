{
 "cells": [
  {
   "cell_type": "markdown",
   "id": "6155d61c",
   "metadata": {},
   "source": [
    "# Время"
   ]
  },
  {
   "cell_type": "markdown",
   "id": "e00b5d4a",
   "metadata": {},
   "source": [
    "Для работы с датой и временем можно использовать модуль datetime. Для получения данных о времени в момент вызова функции используйте функцию today в одноимённом подмодуле:"
   ]
  },
  {
   "cell_type": "code",
   "execution_count": 2,
   "id": "388839c1",
   "metadata": {},
   "outputs": [
    {
     "data": {
      "text/plain": [
       "datetime.datetime(2022, 10, 30, 21, 13, 37, 237730)"
      ]
     },
     "execution_count": 2,
     "metadata": {},
     "output_type": "execute_result"
    }
   ],
   "source": [
    "import datetime  # by convention imports are placed in the head of file and separated with 2 blank lines from other code\n",
    "\n",
    "\n",
    "date = datetime.datetime.today()\n",
    "date"
   ]
  },
  {
   "cell_type": "markdown",
   "id": "ebbc89e0",
   "metadata": {},
   "source": [
    "Само по себе это даст вам специальный тип даты. Чтобы перевести его в строку сделайте следующее:"
   ]
  },
  {
   "cell_type": "code",
   "execution_count": 5,
   "id": "760e075e",
   "metadata": {},
   "outputs": [
    {
     "data": {
      "text/plain": [
       "'2022-10-10/30/22-21:16:18'"
      ]
     },
     "execution_count": 5,
     "metadata": {},
     "output_type": "execute_result"
    }
   ],
   "source": [
    "date = datetime.datetime.today().strftime('%Y-%m-%D-%H:%M:%S')\n",
    "date"
   ]
  },
  {
   "cell_type": "markdown",
   "id": "09b3aef2",
   "metadata": {},
   "source": [
    "strftime форматирует дату по переданному ему формату:\n",
    "\n",
    "% – обозначает что дальше будет часть даты\n",
    "Y – год 4-мя знаками\n",
    "m – месяц 2-мя знаками\n",
    "d – день\n",
    "H – час\n",
    "M – минуты\n",
    "S – секунды"
   ]
  },
  {
   "cell_type": "code",
   "execution_count": 6,
   "id": "80e27e24",
   "metadata": {},
   "outputs": [
    {
     "name": "stdout",
     "output_type": "stream",
     "text": [
      "Full time format of now is 2022-10-30 21:16:53.470289\n"
     ]
    }
   ],
   "source": [
    "from datetime import datetime\n",
    "\n",
    "\n",
    "# current date and time\n",
    "now = datetime.now() \n",
    "print(f'Full time format of now is {now}')"
   ]
  },
  {
   "cell_type": "markdown",
   "id": "abc43919",
   "metadata": {},
   "source": [
    "https://docs.python.org/3/library/datetime.html"
   ]
  },
  {
   "cell_type": "markdown",
   "id": "218d9f56",
   "metadata": {},
   "source": [
    "# Конвертация во время"
   ]
  },
  {
   "cell_type": "markdown",
   "id": "0431bab0",
   "metadata": {},
   "source": [
    "pd.to_datetime() — метод, позволяющий превратить строки во время. Это позволяет удобно с ним работать."
   ]
  },
  {
   "cell_type": "code",
   "execution_count": null,
   "id": "17535496",
   "metadata": {},
   "outputs": [],
   "source": [
    "df['Date'] = pd.to_datetime(df['Date'])"
   ]
  },
  {
   "cell_type": "code",
   "execution_count": 21,
   "id": "dbdcc0fd",
   "metadata": {},
   "outputs": [],
   "source": [
    "df = pd.read_csv('3_taxi_peru.csv', sep = ';')"
   ]
  },
  {
   "cell_type": "code",
   "execution_count": 22,
   "id": "df871b59",
   "metadata": {},
   "outputs": [
    {
     "data": {
      "text/plain": [
       "journey_id           object\n",
       "user_id              object\n",
       "driver_id            object\n",
       "taxi_id              object\n",
       "icon                 object\n",
       "start_type           object\n",
       "start_at             object\n",
       "start_lat            object\n",
       "start_lon            object\n",
       "end_at               object\n",
       "end_lat              object\n",
       "end_lon              object\n",
       "end_state            object\n",
       "driver_start_lat     object\n",
       "driver_start_lon     object\n",
       "arrived_at           object\n",
       "source               object\n",
       "driver_score        float64\n",
       "rider_score         float64\n",
       "dtype: object"
      ]
     },
     "execution_count": 22,
     "metadata": {},
     "output_type": "execute_result"
    }
   ],
   "source": [
    "df.dtypes"
   ]
  },
  {
   "cell_type": "code",
   "execution_count": 23,
   "id": "c235b5d8",
   "metadata": {},
   "outputs": [],
   "source": [
    "df['start_at'] = pd.to_datetime(df.start_at)"
   ]
  },
  {
   "cell_type": "code",
   "execution_count": 24,
   "id": "1b138367",
   "metadata": {},
   "outputs": [
    {
     "data": {
      "text/plain": [
       "journey_id                  object\n",
       "user_id                     object\n",
       "driver_id                   object\n",
       "taxi_id                     object\n",
       "icon                        object\n",
       "start_type                  object\n",
       "start_at            datetime64[ns]\n",
       "start_lat                   object\n",
       "start_lon                   object\n",
       "end_at                      object\n",
       "end_lat                     object\n",
       "end_lon                     object\n",
       "end_state                   object\n",
       "driver_start_lat            object\n",
       "driver_start_lon            object\n",
       "arrived_at                  object\n",
       "source                      object\n",
       "driver_score               float64\n",
       "rider_score                float64\n",
       "dtype: object"
      ]
     },
     "execution_count": 24,
     "metadata": {},
     "output_type": "execute_result"
    }
   ],
   "source": [
    "df.dtypes"
   ]
  },
  {
   "cell_type": "markdown",
   "id": "bc3d104e",
   "metadata": {},
   "source": [
    "Видим, что тип данных изменился"
   ]
  },
  {
   "cell_type": "code",
   "execution_count": 25,
   "id": "05df351b",
   "metadata": {},
   "outputs": [
    {
     "data": {
      "text/plain": [
       "0       2010-11-16 16:44:00\n",
       "1       2010-06-01 00:34:00\n",
       "2       2010-05-31 05:01:00\n",
       "3       2010-06-01 00:29:00\n",
       "4       2010-09-11 23:55:00\n",
       "                ...        \n",
       "23106   2010-07-31 13:15:00\n",
       "23107   2010-10-02 05:26:00\n",
       "23108   2010-09-21 09:56:00\n",
       "23109   2010-04-29 04:30:00\n",
       "23110   2010-03-16 19:58:00\n",
       "Name: start_at, Length: 23111, dtype: datetime64[ns]"
      ]
     },
     "execution_count": 25,
     "metadata": {},
     "output_type": "execute_result"
    }
   ],
   "source": [
    "df.start_at"
   ]
  },
  {
   "cell_type": "code",
   "execution_count": 26,
   "id": "cbedc318",
   "metadata": {},
   "outputs": [
    {
     "data": {
      "text/plain": [
       "0        16\n",
       "1         1\n",
       "2        31\n",
       "3         1\n",
       "4        11\n",
       "         ..\n",
       "23106    31\n",
       "23107     2\n",
       "23108    21\n",
       "23109    29\n",
       "23110    16\n",
       "Name: start_at, Length: 23111, dtype: int64"
      ]
     },
     "execution_count": 26,
     "metadata": {},
     "output_type": "execute_result"
    }
   ],
   "source": [
    "df.start_at.dt.day"
   ]
  },
  {
   "cell_type": "code",
   "execution_count": 27,
   "id": "7b17c885",
   "metadata": {},
   "outputs": [
    {
     "data": {
      "text/plain": [
       "0        1\n",
       "1        1\n",
       "2        0\n",
       "3        1\n",
       "4        5\n",
       "        ..\n",
       "23106    5\n",
       "23107    5\n",
       "23108    1\n",
       "23109    3\n",
       "23110    1\n",
       "Name: start_at, Length: 23111, dtype: int64"
      ]
     },
     "execution_count": 27,
     "metadata": {},
     "output_type": "execute_result"
    }
   ],
   "source": [
    "df.start_at.dt.weekday"
   ]
  },
  {
   "cell_type": "code",
   "execution_count": 28,
   "id": "a7c373ea",
   "metadata": {},
   "outputs": [
    {
     "data": {
      "text/plain": [
       "0         Tuesday\n",
       "1         Tuesday\n",
       "2          Monday\n",
       "3         Tuesday\n",
       "4        Saturday\n",
       "           ...   \n",
       "23106    Saturday\n",
       "23107    Saturday\n",
       "23108     Tuesday\n",
       "23109    Thursday\n",
       "23110     Tuesday\n",
       "Name: start_at, Length: 23111, dtype: object"
      ]
     },
     "execution_count": 28,
     "metadata": {},
     "output_type": "execute_result"
    }
   ],
   "source": [
    "df.start_at.dt.day_name()"
   ]
  },
  {
   "cell_type": "code",
   "execution_count": 29,
   "id": "8aaf0dae",
   "metadata": {},
   "outputs": [
    {
     "data": {
      "text/plain": [
       "0        11\n",
       "1         6\n",
       "2         5\n",
       "3         6\n",
       "4         9\n",
       "         ..\n",
       "23106     7\n",
       "23107    10\n",
       "23108     9\n",
       "23109     4\n",
       "23110     3\n",
       "Name: start_at, Length: 23111, dtype: int64"
      ]
     },
     "execution_count": 29,
     "metadata": {},
     "output_type": "execute_result"
    }
   ],
   "source": [
    "df.start_at.dt.month"
   ]
  },
  {
   "cell_type": "code",
   "execution_count": 30,
   "id": "8cf020bd",
   "metadata": {},
   "outputs": [
    {
     "data": {
      "text/plain": [
       "0         November\n",
       "1             June\n",
       "2              May\n",
       "3             June\n",
       "4        September\n",
       "           ...    \n",
       "23106         July\n",
       "23107      October\n",
       "23108    September\n",
       "23109        April\n",
       "23110        March\n",
       "Name: start_at, Length: 23111, dtype: object"
      ]
     },
     "execution_count": 30,
     "metadata": {},
     "output_type": "execute_result"
    }
   ],
   "source": [
    "df.start_at.dt.month_name()"
   ]
  },
  {
   "cell_type": "code",
   "execution_count": 31,
   "id": "5d0cb23f",
   "metadata": {},
   "outputs": [
    {
     "data": {
      "text/plain": [
       "0        2010\n",
       "1        2010\n",
       "2        2010\n",
       "3        2010\n",
       "4        2010\n",
       "         ... \n",
       "23106    2010\n",
       "23107    2010\n",
       "23108    2010\n",
       "23109    2010\n",
       "23110    2010\n",
       "Name: start_at, Length: 23111, dtype: int64"
      ]
     },
     "execution_count": 31,
     "metadata": {},
     "output_type": "execute_result"
    }
   ],
   "source": [
    "df.start_at.dt.year"
   ]
  },
  {
   "cell_type": "code",
   "execution_count": null,
   "id": "7a7cb047",
   "metadata": {},
   "outputs": [],
   "source": [
    "https://pandas.pydata.org/pandas-docs/stable/reference/api/pandas.to_datetime.html"
   ]
  },
  {
   "cell_type": "markdown",
   "id": "f28ceb98",
   "metadata": {},
   "source": [
    "Парсинг дат\n",
    "\n",
    "\n",
    "Также вы можете заранее распарсить дату при загрузке датасета, передав в parse_dates список колонок, в которых содержится дата:"
   ]
  },
  {
   "cell_type": "code",
   "execution_count": null,
   "id": "05ee20b4",
   "metadata": {},
   "outputs": [],
   "source": [
    "pd.read_csv('some.csv', parse_dates=[1])  # order of columns starting from 0"
   ]
  },
  {
   "cell_type": "markdown",
   "id": "0ecb2cc7",
   "metadata": {},
   "source": [
    "# Операции с датами"
   ]
  },
  {
   "cell_type": "code",
   "execution_count": 43,
   "id": "81f24e9a",
   "metadata": {},
   "outputs": [],
   "source": [
    "df_orders = pd.read_excel('data.xlsx')"
   ]
  },
  {
   "cell_type": "code",
   "execution_count": 44,
   "id": "1c60701a",
   "metadata": {},
   "outputs": [],
   "source": [
    "df_orders = df_orders.rename(columns=lambda c: c.lower().replace('-', '_').replace('/', '_').replace(' ', '_'))"
   ]
  },
  {
   "cell_type": "code",
   "execution_count": 46,
   "id": "66406e03",
   "metadata": {},
   "outputs": [],
   "source": [
    "#Как извлечь из даты информацию о месяце и годе?\n",
    "# создание столбца year_month\n",
    "df_orders['year_month'] = df_orders['order_date'].dt.to_period('M')"
   ]
  },
  {
   "cell_type": "code",
   "execution_count": 47,
   "id": "315c2d7a",
   "metadata": {},
   "outputs": [
    {
     "data": {
      "text/html": [
       "<div>\n",
       "<style scoped>\n",
       "    .dataframe tbody tr th:only-of-type {\n",
       "        vertical-align: middle;\n",
       "    }\n",
       "\n",
       "    .dataframe tbody tr th {\n",
       "        vertical-align: top;\n",
       "    }\n",
       "\n",
       "    .dataframe thead th {\n",
       "        text-align: right;\n",
       "    }\n",
       "</style>\n",
       "<table border=\"1\" class=\"dataframe\">\n",
       "  <thead>\n",
       "    <tr style=\"text-align: right;\">\n",
       "      <th></th>\n",
       "      <th>row_id</th>\n",
       "      <th>order_id</th>\n",
       "      <th>order_date</th>\n",
       "      <th>ship_date</th>\n",
       "      <th>ship_mode</th>\n",
       "      <th>customer_id</th>\n",
       "      <th>customer_name</th>\n",
       "      <th>segment</th>\n",
       "      <th>country_region</th>\n",
       "      <th>city</th>\n",
       "      <th>...</th>\n",
       "      <th>product_id</th>\n",
       "      <th>category</th>\n",
       "      <th>sub_category</th>\n",
       "      <th>product_name</th>\n",
       "      <th>sales</th>\n",
       "      <th>quantity</th>\n",
       "      <th>discount</th>\n",
       "      <th>profit</th>\n",
       "      <th>year_month</th>\n",
       "      <th>duration_order</th>\n",
       "    </tr>\n",
       "  </thead>\n",
       "  <tbody>\n",
       "    <tr>\n",
       "      <th>0</th>\n",
       "      <td>1</td>\n",
       "      <td>CA-2018-152156</td>\n",
       "      <td>2018-11-08</td>\n",
       "      <td>2018-11-11</td>\n",
       "      <td>Second Class</td>\n",
       "      <td>CG-12520</td>\n",
       "      <td>Claire Gute</td>\n",
       "      <td>Consumer</td>\n",
       "      <td>United States</td>\n",
       "      <td>Henderson</td>\n",
       "      <td>...</td>\n",
       "      <td>FUR-BO-10001798</td>\n",
       "      <td>Furniture</td>\n",
       "      <td>Bookcases</td>\n",
       "      <td>Bush Somerset Collection Bookcase</td>\n",
       "      <td>261.96</td>\n",
       "      <td>2</td>\n",
       "      <td>0.0</td>\n",
       "      <td>41.9136</td>\n",
       "      <td>2018-11</td>\n",
       "      <td>3 days</td>\n",
       "    </tr>\n",
       "    <tr>\n",
       "      <th>1</th>\n",
       "      <td>2</td>\n",
       "      <td>CA-2018-152156</td>\n",
       "      <td>2018-11-08</td>\n",
       "      <td>2018-11-11</td>\n",
       "      <td>Second Class</td>\n",
       "      <td>CG-12520</td>\n",
       "      <td>Claire Gute</td>\n",
       "      <td>Consumer</td>\n",
       "      <td>United States</td>\n",
       "      <td>Henderson</td>\n",
       "      <td>...</td>\n",
       "      <td>FUR-CH-10000454</td>\n",
       "      <td>Furniture</td>\n",
       "      <td>Chairs</td>\n",
       "      <td>Hon Deluxe Fabric Upholstered Stacking Chairs,...</td>\n",
       "      <td>731.94</td>\n",
       "      <td>3</td>\n",
       "      <td>0.0</td>\n",
       "      <td>219.5820</td>\n",
       "      <td>2018-11</td>\n",
       "      <td>3 days</td>\n",
       "    </tr>\n",
       "  </tbody>\n",
       "</table>\n",
       "<p>2 rows × 23 columns</p>\n",
       "</div>"
      ],
      "text/plain": [
       "   row_id        order_id order_date  ship_date     ship_mode customer_id  \\\n",
       "0       1  CA-2018-152156 2018-11-08 2018-11-11  Second Class    CG-12520   \n",
       "1       2  CA-2018-152156 2018-11-08 2018-11-11  Second Class    CG-12520   \n",
       "\n",
       "  customer_name   segment country_region       city  ...       product_id  \\\n",
       "0   Claire Gute  Consumer  United States  Henderson  ...  FUR-BO-10001798   \n",
       "1   Claire Gute  Consumer  United States  Henderson  ...  FUR-CH-10000454   \n",
       "\n",
       "    category sub_category                                       product_name  \\\n",
       "0  Furniture    Bookcases                  Bush Somerset Collection Bookcase   \n",
       "1  Furniture       Chairs  Hon Deluxe Fabric Upholstered Stacking Chairs,...   \n",
       "\n",
       "    sales quantity discount    profit  year_month  duration_order  \n",
       "0  261.96        2      0.0   41.9136     2018-11          3 days  \n",
       "1  731.94        3      0.0  219.5820     2018-11          3 days  \n",
       "\n",
       "[2 rows x 23 columns]"
      ]
     },
     "execution_count": 47,
     "metadata": {},
     "output_type": "execute_result"
    }
   ],
   "source": [
    "#интервал между двумя датами\n",
    "df_orders['duration_order'] = df_orders.ship_date - df_orders.order_date\n",
    "df_orders.head(2)"
   ]
  },
  {
   "cell_type": "code",
   "execution_count": 54,
   "id": "8cd40fd8",
   "metadata": {},
   "outputs": [
    {
     "data": {
      "text/html": [
       "<div>\n",
       "<style scoped>\n",
       "    .dataframe tbody tr th:only-of-type {\n",
       "        vertical-align: middle;\n",
       "    }\n",
       "\n",
       "    .dataframe tbody tr th {\n",
       "        vertical-align: top;\n",
       "    }\n",
       "\n",
       "    .dataframe thead th {\n",
       "        text-align: right;\n",
       "    }\n",
       "</style>\n",
       "<table border=\"1\" class=\"dataframe\">\n",
       "  <thead>\n",
       "    <tr style=\"text-align: right;\">\n",
       "      <th></th>\n",
       "      <th>row_id</th>\n",
       "      <th>order_id</th>\n",
       "      <th>order_date</th>\n",
       "      <th>ship_date</th>\n",
       "      <th>ship_mode</th>\n",
       "      <th>customer_id</th>\n",
       "      <th>customer_name</th>\n",
       "      <th>segment</th>\n",
       "      <th>country_region</th>\n",
       "      <th>city</th>\n",
       "      <th>...</th>\n",
       "      <th>sub_category</th>\n",
       "      <th>product_name</th>\n",
       "      <th>sales</th>\n",
       "      <th>quantity</th>\n",
       "      <th>discount</th>\n",
       "      <th>profit</th>\n",
       "      <th>year_month</th>\n",
       "      <th>duration_order</th>\n",
       "      <th>days_to_order</th>\n",
       "      <th>plan_date</th>\n",
       "    </tr>\n",
       "  </thead>\n",
       "  <tbody>\n",
       "    <tr>\n",
       "      <th>0</th>\n",
       "      <td>1</td>\n",
       "      <td>CA-2018-152156</td>\n",
       "      <td>2018-11-08</td>\n",
       "      <td>2018-11-11</td>\n",
       "      <td>Second Class</td>\n",
       "      <td>CG-12520</td>\n",
       "      <td>Claire Gute</td>\n",
       "      <td>Consumer</td>\n",
       "      <td>United States</td>\n",
       "      <td>Henderson</td>\n",
       "      <td>...</td>\n",
       "      <td>Bookcases</td>\n",
       "      <td>Bush Somerset Collection Bookcase</td>\n",
       "      <td>261.96</td>\n",
       "      <td>2</td>\n",
       "      <td>0.0</td>\n",
       "      <td>41.9136</td>\n",
       "      <td>2018-11</td>\n",
       "      <td>3 days</td>\n",
       "      <td>3</td>\n",
       "      <td>2018-11-10</td>\n",
       "    </tr>\n",
       "    <tr>\n",
       "      <th>1</th>\n",
       "      <td>2</td>\n",
       "      <td>CA-2018-152156</td>\n",
       "      <td>2018-11-08</td>\n",
       "      <td>2018-11-11</td>\n",
       "      <td>Second Class</td>\n",
       "      <td>CG-12520</td>\n",
       "      <td>Claire Gute</td>\n",
       "      <td>Consumer</td>\n",
       "      <td>United States</td>\n",
       "      <td>Henderson</td>\n",
       "      <td>...</td>\n",
       "      <td>Chairs</td>\n",
       "      <td>Hon Deluxe Fabric Upholstered Stacking Chairs,...</td>\n",
       "      <td>731.94</td>\n",
       "      <td>3</td>\n",
       "      <td>0.0</td>\n",
       "      <td>219.5820</td>\n",
       "      <td>2018-11</td>\n",
       "      <td>3 days</td>\n",
       "      <td>3</td>\n",
       "      <td>2018-11-10</td>\n",
       "    </tr>\n",
       "  </tbody>\n",
       "</table>\n",
       "<p>2 rows × 25 columns</p>\n",
       "</div>"
      ],
      "text/plain": [
       "   row_id        order_id order_date  ship_date     ship_mode customer_id  \\\n",
       "0       1  CA-2018-152156 2018-11-08 2018-11-11  Second Class    CG-12520   \n",
       "1       2  CA-2018-152156 2018-11-08 2018-11-11  Second Class    CG-12520   \n",
       "\n",
       "  customer_name   segment country_region       city  ... sub_category  \\\n",
       "0   Claire Gute  Consumer  United States  Henderson  ...    Bookcases   \n",
       "1   Claire Gute  Consumer  United States  Henderson  ...       Chairs   \n",
       "\n",
       "                                        product_name   sales quantity  \\\n",
       "0                  Bush Somerset Collection Bookcase  261.96        2   \n",
       "1  Hon Deluxe Fabric Upholstered Stacking Chairs,...  731.94        3   \n",
       "\n",
       "  discount    profit year_month  duration_order  days_to_order  plan_date  \n",
       "0      0.0   41.9136    2018-11          3 days              3 2018-11-10  \n",
       "1      0.0  219.5820    2018-11          3 days              3 2018-11-10  \n",
       "\n",
       "[2 rows x 25 columns]"
      ]
     },
     "execution_count": 54,
     "metadata": {},
     "output_type": "execute_result"
    }
   ],
   "source": [
    "#или интервал между двумя датами\n",
    "df_orders['days_to_order'] = (df_orders['ship_date'] - df_orders['order_date']).dt.days\n",
    "df_orders.head(2)"
   ]
  },
  {
   "cell_type": "code",
   "execution_count": 55,
   "id": "18d11432",
   "metadata": {},
   "outputs": [
    {
     "data": {
      "text/html": [
       "<div>\n",
       "<style scoped>\n",
       "    .dataframe tbody tr th:only-of-type {\n",
       "        vertical-align: middle;\n",
       "    }\n",
       "\n",
       "    .dataframe tbody tr th {\n",
       "        vertical-align: top;\n",
       "    }\n",
       "\n",
       "    .dataframe thead th {\n",
       "        text-align: right;\n",
       "    }\n",
       "</style>\n",
       "<table border=\"1\" class=\"dataframe\">\n",
       "  <thead>\n",
       "    <tr style=\"text-align: right;\">\n",
       "      <th></th>\n",
       "      <th>row_id</th>\n",
       "      <th>order_id</th>\n",
       "      <th>order_date</th>\n",
       "      <th>ship_date</th>\n",
       "      <th>ship_mode</th>\n",
       "      <th>customer_id</th>\n",
       "      <th>customer_name</th>\n",
       "      <th>segment</th>\n",
       "      <th>country_region</th>\n",
       "      <th>city</th>\n",
       "      <th>...</th>\n",
       "      <th>sub_category</th>\n",
       "      <th>product_name</th>\n",
       "      <th>sales</th>\n",
       "      <th>quantity</th>\n",
       "      <th>discount</th>\n",
       "      <th>profit</th>\n",
       "      <th>year_month</th>\n",
       "      <th>duration_order</th>\n",
       "      <th>days_to_order</th>\n",
       "      <th>plan_date</th>\n",
       "    </tr>\n",
       "  </thead>\n",
       "  <tbody>\n",
       "    <tr>\n",
       "      <th>0</th>\n",
       "      <td>1</td>\n",
       "      <td>CA-2018-152156</td>\n",
       "      <td>2018-11-08</td>\n",
       "      <td>2018-11-11</td>\n",
       "      <td>Second Class</td>\n",
       "      <td>CG-12520</td>\n",
       "      <td>Claire Gute</td>\n",
       "      <td>Consumer</td>\n",
       "      <td>United States</td>\n",
       "      <td>Henderson</td>\n",
       "      <td>...</td>\n",
       "      <td>Bookcases</td>\n",
       "      <td>Bush Somerset Collection Bookcase</td>\n",
       "      <td>261.96</td>\n",
       "      <td>2</td>\n",
       "      <td>0.0</td>\n",
       "      <td>41.9136</td>\n",
       "      <td>2018-11</td>\n",
       "      <td>3 days</td>\n",
       "      <td>3</td>\n",
       "      <td>2018-11-10</td>\n",
       "    </tr>\n",
       "    <tr>\n",
       "      <th>1</th>\n",
       "      <td>2</td>\n",
       "      <td>CA-2018-152156</td>\n",
       "      <td>2018-11-08</td>\n",
       "      <td>2018-11-11</td>\n",
       "      <td>Second Class</td>\n",
       "      <td>CG-12520</td>\n",
       "      <td>Claire Gute</td>\n",
       "      <td>Consumer</td>\n",
       "      <td>United States</td>\n",
       "      <td>Henderson</td>\n",
       "      <td>...</td>\n",
       "      <td>Chairs</td>\n",
       "      <td>Hon Deluxe Fabric Upholstered Stacking Chairs,...</td>\n",
       "      <td>731.94</td>\n",
       "      <td>3</td>\n",
       "      <td>0.0</td>\n",
       "      <td>219.5820</td>\n",
       "      <td>2018-11</td>\n",
       "      <td>3 days</td>\n",
       "      <td>3</td>\n",
       "      <td>2018-11-10</td>\n",
       "    </tr>\n",
       "  </tbody>\n",
       "</table>\n",
       "<p>2 rows × 25 columns</p>\n",
       "</div>"
      ],
      "text/plain": [
       "   row_id        order_id order_date  ship_date     ship_mode customer_id  \\\n",
       "0       1  CA-2018-152156 2018-11-08 2018-11-11  Second Class    CG-12520   \n",
       "1       2  CA-2018-152156 2018-11-08 2018-11-11  Second Class    CG-12520   \n",
       "\n",
       "  customer_name   segment country_region       city  ... sub_category  \\\n",
       "0   Claire Gute  Consumer  United States  Henderson  ...    Bookcases   \n",
       "1   Claire Gute  Consumer  United States  Henderson  ...       Chairs   \n",
       "\n",
       "                                        product_name   sales quantity  \\\n",
       "0                  Bush Somerset Collection Bookcase  261.96        2   \n",
       "1  Hon Deluxe Fabric Upholstered Stacking Chairs,...  731.94        3   \n",
       "\n",
       "  discount    profit year_month  duration_order  days_to_order  plan_date  \n",
       "0      0.0   41.9136    2018-11          3 days              3 2018-11-10  \n",
       "1      0.0  219.5820    2018-11          3 days              3 2018-11-10  \n",
       "\n",
       "[2 rows x 25 columns]"
      ]
     },
     "execution_count": 55,
     "metadata": {},
     "output_type": "execute_result"
    }
   ],
   "source": [
    "#прибавление интервала\n",
    "df_orders['plan_date'] = df_orders.order_date+pd.DateOffset(days=2)\n",
    "df_orders.head(2)"
   ]
  },
  {
   "cell_type": "code",
   "execution_count": null,
   "id": "f4d936cf",
   "metadata": {},
   "outputs": [],
   "source": []
  },
  {
   "cell_type": "markdown",
   "id": "701002fa",
   "metadata": {},
   "source": [
    "# Поиск пустых значений\n"
   ]
  },
  {
   "cell_type": "markdown",
   "id": "e40f70fa",
   "metadata": {},
   "source": [
    "isna — это метод, с помощью которого можно быстро найти пропущенные значения в датафрейме:"
   ]
  },
  {
   "cell_type": "markdown",
   "id": "20d001f0",
   "metadata": {},
   "source": [
    "Применив его, на выходе мы получаем датафрэйм той же размерности, где в каждой ячейке True или False — в зависимости от того, было ли значение пропущено:"
   ]
  },
  {
   "cell_type": "code",
   "execution_count": 7,
   "id": "9eae9dba",
   "metadata": {},
   "outputs": [],
   "source": [
    "import pandas as pd"
   ]
  },
  {
   "cell_type": "code",
   "execution_count": 8,
   "id": "ffc650b7",
   "metadata": {},
   "outputs": [],
   "source": [
    "#создание датафрейма\n",
    "df_data = pd.DataFrame([['Anna', 23, 3],\n",
    "             ['Ivan', 36, None],\n",
    "             ['Lena', 33, 10],\n",
    "             ['Irina', None, 7],\n",
    "             ['Lisa', 27, 7],\n",
    "             ['Peter', 32, 8]])\n",
    "df_data.columns = ['name', 'age', 'expr'] "
   ]
  },
  {
   "cell_type": "code",
   "execution_count": 10,
   "id": "5dcd20e2",
   "metadata": {},
   "outputs": [
    {
     "data": {
      "text/html": [
       "<div>\n",
       "<style scoped>\n",
       "    .dataframe tbody tr th:only-of-type {\n",
       "        vertical-align: middle;\n",
       "    }\n",
       "\n",
       "    .dataframe tbody tr th {\n",
       "        vertical-align: top;\n",
       "    }\n",
       "\n",
       "    .dataframe thead th {\n",
       "        text-align: right;\n",
       "    }\n",
       "</style>\n",
       "<table border=\"1\" class=\"dataframe\">\n",
       "  <thead>\n",
       "    <tr style=\"text-align: right;\">\n",
       "      <th></th>\n",
       "      <th>name</th>\n",
       "      <th>age</th>\n",
       "      <th>expr</th>\n",
       "    </tr>\n",
       "  </thead>\n",
       "  <tbody>\n",
       "    <tr>\n",
       "      <th>0</th>\n",
       "      <td>False</td>\n",
       "      <td>False</td>\n",
       "      <td>False</td>\n",
       "    </tr>\n",
       "    <tr>\n",
       "      <th>1</th>\n",
       "      <td>False</td>\n",
       "      <td>False</td>\n",
       "      <td>True</td>\n",
       "    </tr>\n",
       "    <tr>\n",
       "      <th>2</th>\n",
       "      <td>False</td>\n",
       "      <td>False</td>\n",
       "      <td>False</td>\n",
       "    </tr>\n",
       "    <tr>\n",
       "      <th>3</th>\n",
       "      <td>False</td>\n",
       "      <td>True</td>\n",
       "      <td>False</td>\n",
       "    </tr>\n",
       "    <tr>\n",
       "      <th>4</th>\n",
       "      <td>False</td>\n",
       "      <td>False</td>\n",
       "      <td>False</td>\n",
       "    </tr>\n",
       "    <tr>\n",
       "      <th>5</th>\n",
       "      <td>False</td>\n",
       "      <td>False</td>\n",
       "      <td>False</td>\n",
       "    </tr>\n",
       "  </tbody>\n",
       "</table>\n",
       "</div>"
      ],
      "text/plain": [
       "    name    age   expr\n",
       "0  False  False  False\n",
       "1  False  False   True\n",
       "2  False  False  False\n",
       "3  False   True  False\n",
       "4  False  False  False\n",
       "5  False  False  False"
      ]
     },
     "execution_count": 10,
     "metadata": {},
     "output_type": "execute_result"
    }
   ],
   "source": [
    "df_data.isna()"
   ]
  },
  {
   "cell_type": "markdown",
   "id": "29166df6",
   "metadata": {},
   "source": [
    "В связке с ним можно использовать, например, sum, чтобы посмотреть на число NA в разных колонках:"
   ]
  },
  {
   "cell_type": "code",
   "execution_count": 12,
   "id": "41c19e88",
   "metadata": {},
   "outputs": [
    {
     "data": {
      "text/plain": [
       "name    0\n",
       "age     1\n",
       "expr    1\n",
       "dtype: int64"
      ]
     },
     "execution_count": 12,
     "metadata": {},
     "output_type": "execute_result"
    }
   ],
   "source": [
    "df_data.isna().sum()"
   ]
  },
  {
   "cell_type": "markdown",
   "id": "55ca6c62",
   "metadata": {},
   "source": [
    "https://pandas.pydata.org/pandas-docs/stable/reference/api/pandas.DataFrame.isna.html"
   ]
  },
  {
   "cell_type": "markdown",
   "id": "387baf0b",
   "metadata": {},
   "source": [
    "# Проверка на начало строки"
   ]
  },
  {
   "cell_type": "markdown",
   "id": "5fdfe67d",
   "metadata": {},
   "source": [
    "startswith — строковый метод, принимающий другую строку и возвращающий True или False в зависимости от того, начинается ли исходная строка с переданной."
   ]
  },
  {
   "cell_type": "code",
   "execution_count": 14,
   "id": "680db053",
   "metadata": {},
   "outputs": [
    {
     "data": {
      "text/plain": [
       "True"
      ]
     },
     "execution_count": 14,
     "metadata": {},
     "output_type": "execute_result"
    }
   ],
   "source": [
    "'Minsk'.startswith('Mi')"
   ]
  },
  {
   "cell_type": "code",
   "execution_count": 15,
   "id": "1e958954",
   "metadata": {},
   "outputs": [
    {
     "data": {
      "text/plain": [
       "False"
      ]
     },
     "execution_count": 15,
     "metadata": {},
     "output_type": "execute_result"
    }
   ],
   "source": [
    "'Minsk'.startswith('Ab')"
   ]
  },
  {
   "cell_type": "markdown",
   "id": "615b2975",
   "metadata": {},
   "source": [
    "https://pythonz.net/references/named/str.startswith/"
   ]
  },
  {
   "cell_type": "code",
   "execution_count": 17,
   "id": "262b5a5c",
   "metadata": {},
   "outputs": [],
   "source": [
    "my_str = 'Discworld'"
   ]
  },
  {
   "cell_type": "code",
   "execution_count": null,
   "id": "37943c3b",
   "metadata": {},
   "outputs": [],
   "source": [
    "my_str.startswith('Mad')  # False\n",
    "my_str.startswith('Disc')  # True\n",
    "my_str.startswith(('Disc', 'Mad'))  # True\n",
    "my_str.startswith('world', 4, 9)  # True"
   ]
  },
  {
   "cell_type": "markdown",
   "id": "28759d9f",
   "metadata": {},
   "source": [
    "# Конвертация типов в датафрэйме"
   ]
  },
  {
   "cell_type": "markdown",
   "id": "b74d4cf1",
   "metadata": {},
   "source": [
    "Нередка ситуация, когда тип данных в колонке не соответствует желаемому."
   ]
  },
  {
   "cell_type": "markdown",
   "id": "c7fd67a2",
   "metadata": {},
   "source": [
    "Чтобы это исправить, есть метод astype, в который можно передать словарь, где ключи — названия колонок, а значения — новые типы для них. Метод возвращает новый датафрэйм с изменёнными типами:"
   ]
  },
  {
   "cell_type": "markdown",
   "id": "28a9aaaa",
   "metadata": {},
   "source": [
    "df = df.astype({'money': 'float'})  # df.money will be rational number after this line\n",
    "\n",
    "\n",
    "df.height = df.height.astype('float')  # df.height will be rational number"
   ]
  },
  {
   "cell_type": "markdown",
   "id": "cd3f12d2",
   "metadata": {},
   "source": [
    "https://pandas.pydata.org/pandas-docs/stable/reference/api/pandas.DataFrame.astype.html"
   ]
  },
  {
   "cell_type": "markdown",
   "id": "436864a8",
   "metadata": {},
   "source": [
    "# Удаление пропущенных значений"
   ]
  },
  {
   "cell_type": "markdown",
   "id": "49f76f2e",
   "metadata": {},
   "source": [
    "dropna — метод, позволяющий выкинуть из датафрэйма все строки, содержащие пропущенные значения."
   ]
  },
  {
   "cell_type": "code",
   "execution_count": 56,
   "id": "24410c5d",
   "metadata": {},
   "outputs": [],
   "source": [
    "#создание датафрейма\n",
    "df_data = pd.DataFrame([['Anna', 23, 3],\n",
    "             ['Ivan', 36, None],\n",
    "             ['Lena', 33, 10],\n",
    "             ['Irina', None, 7],\n",
    "             ['Lisa', 27, 7],\n",
    "             ['Peter', 32, 8]])\n",
    "df_data.columns = ['name', 'age', 'expr'] "
   ]
  },
  {
   "cell_type": "code",
   "execution_count": 57,
   "id": "8ee6637d",
   "metadata": {},
   "outputs": [
    {
     "data": {
      "text/html": [
       "<div>\n",
       "<style scoped>\n",
       "    .dataframe tbody tr th:only-of-type {\n",
       "        vertical-align: middle;\n",
       "    }\n",
       "\n",
       "    .dataframe tbody tr th {\n",
       "        vertical-align: top;\n",
       "    }\n",
       "\n",
       "    .dataframe thead th {\n",
       "        text-align: right;\n",
       "    }\n",
       "</style>\n",
       "<table border=\"1\" class=\"dataframe\">\n",
       "  <thead>\n",
       "    <tr style=\"text-align: right;\">\n",
       "      <th></th>\n",
       "      <th>name</th>\n",
       "      <th>age</th>\n",
       "      <th>expr</th>\n",
       "    </tr>\n",
       "  </thead>\n",
       "  <tbody>\n",
       "    <tr>\n",
       "      <th>0</th>\n",
       "      <td>Anna</td>\n",
       "      <td>23.0</td>\n",
       "      <td>3.0</td>\n",
       "    </tr>\n",
       "    <tr>\n",
       "      <th>2</th>\n",
       "      <td>Lena</td>\n",
       "      <td>33.0</td>\n",
       "      <td>10.0</td>\n",
       "    </tr>\n",
       "    <tr>\n",
       "      <th>4</th>\n",
       "      <td>Lisa</td>\n",
       "      <td>27.0</td>\n",
       "      <td>7.0</td>\n",
       "    </tr>\n",
       "    <tr>\n",
       "      <th>5</th>\n",
       "      <td>Peter</td>\n",
       "      <td>32.0</td>\n",
       "      <td>8.0</td>\n",
       "    </tr>\n",
       "  </tbody>\n",
       "</table>\n",
       "</div>"
      ],
      "text/plain": [
       "    name   age  expr\n",
       "0   Anna  23.0   3.0\n",
       "2   Lena  33.0  10.0\n",
       "4   Lisa  27.0   7.0\n",
       "5  Peter  32.0   8.0"
      ]
     },
     "execution_count": 57,
     "metadata": {},
     "output_type": "execute_result"
    }
   ],
   "source": [
    "df_data.dropna()"
   ]
  },
  {
   "cell_type": "markdown",
   "id": "2f5097b4",
   "metadata": {},
   "source": [
    "Так мы выкинем все строки, где было хотя бы одно пропущенное значение\n",
    "\n",
    "https://pandas.pydata.org/pandas-docs/stable/reference/api/pandas.DataFrame.dropna.html#pandas.DataFrame.dropna"
   ]
  },
  {
   "cell_type": "code",
   "execution_count": null,
   "id": "adfbdb2b",
   "metadata": {},
   "outputs": [],
   "source": []
  }
 ],
 "metadata": {
  "kernelspec": {
   "display_name": "Python 3",
   "language": "python",
   "name": "python3"
  },
  "language_info": {
   "codemirror_mode": {
    "name": "ipython",
    "version": 3
   },
   "file_extension": ".py",
   "mimetype": "text/x-python",
   "name": "python",
   "nbconvert_exporter": "python",
   "pygments_lexer": "ipython3",
   "version": "3.8.8"
  }
 },
 "nbformat": 4,
 "nbformat_minor": 5
}
